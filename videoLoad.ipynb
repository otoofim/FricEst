{
 "cells": [
  {
   "cell_type": "code",
   "execution_count": 1,
   "id": "5703d9ab",
   "metadata": {},
   "outputs": [],
   "source": [
    "import matplotlib.pyplot as plt\n",
    "import numpy as np\n",
    "import re\n",
    "import os\n",
    "from IPython.display import Image \n",
    "import cv2\n",
    "import numpy as np\n",
    "import pandas as pd\n",
    "import glob\n",
    "from frictionDataloader import *\n",
    "from UNet import *\n",
    "import torchvision\n",
    "from torchsummary import summary\n",
    "from extractingFrames import *\n",
    "\n",
    "\n",
    "%matplotlib inline"
   ]
  },
  {
   "cell_type": "code",
   "execution_count": 2,
   "id": "b0111213",
   "metadata": {},
   "outputs": [],
   "source": [
    "dataset_arg = {\n",
    "        \"season\": \"Winter\",\n",
    "        \"date\": \"23-03-2021\",\n",
    "        \"hour\": \"15:58\",\n",
    "        \"year\": \"2021\"\n",
    "}\n",
    "vid_add = \"../onedrive/General/{}Test{}/sorted/{}\".format(dataset_arg[\"season\"], dataset_arg[\"year\"], dataset_arg[\"date\"] + \"_\" + dataset_arg[\"hour\"])\n",
    "\n",
    "filename = glob.glob(os.path.join(vid_add,\"*.mp4\"))[0]"
   ]
  },
  {
   "cell_type": "code",
   "execution_count": 3,
   "id": "12d19cc4",
   "metadata": {},
   "outputs": [],
   "source": [
    "video = torchvision.io.read_video(filename,0, 60, pts_unit = 'sec')"
   ]
  },
  {
   "cell_type": "code",
   "execution_count": 4,
   "id": "030750b1",
   "metadata": {
    "scrolled": false
   },
   "outputs": [],
   "source": [
    "frames = video[0]"
   ]
  },
  {
   "cell_type": "code",
   "execution_count": 5,
   "id": "88b6ad95",
   "metadata": {},
   "outputs": [],
   "source": [
    "model = UNet(256)"
   ]
  },
  {
   "cell_type": "code",
   "execution_count": null,
   "id": "8fbf07bf",
   "metadata": {},
   "outputs": [],
   "source": []
  },
  {
   "cell_type": "code",
   "execution_count": null,
   "id": "44fdea29",
   "metadata": {},
   "outputs": [],
   "source": []
  },
  {
   "cell_type": "code",
   "execution_count": null,
   "id": "1e29d628",
   "metadata": {},
   "outputs": [],
   "source": []
  },
  {
   "cell_type": "markdown",
   "id": "b2495980",
   "metadata": {},
   "source": [
    "## Data Loading"
   ]
  },
  {
   "cell_type": "code",
   "execution_count": 75,
   "id": "7b0dcc52",
   "metadata": {},
   "outputs": [],
   "source": [
    "dataset_arg = {\n",
    "        \"season\": \"Winter\",\n",
    "        \"date\": \"23-03-2021\",\n",
    "        \"hour\": \"15:58\",\n",
    "        \"year\": \"2021\"\n",
    "}"
   ]
  },
  {
   "cell_type": "code",
   "execution_count": 76,
   "id": "a1be6b4b",
   "metadata": {},
   "outputs": [
    {
     "name": "stdout",
     "output_type": "stream",
     "text": [
      "Directory  ../test/WinterTest2021/sorted/23-03-2021_15:58/frames  Created \n"
     ]
    }
   ],
   "source": [
    "loader = ExtractingFrames(dataset_arg)"
   ]
  },
  {
   "cell_type": "code",
   "execution_count": 77,
   "id": "4d745a6d",
   "metadata": {},
   "outputs": [],
   "source": [
    "loader.savingFrames()"
   ]
  },
  {
   "cell_type": "code",
   "execution_count": null,
   "id": "dbccb8e6",
   "metadata": {},
   "outputs": [],
   "source": []
  },
  {
   "cell_type": "code",
   "execution_count": null,
   "id": "6ea0ea74",
   "metadata": {},
   "outputs": [],
   "source": []
  },
  {
   "cell_type": "code",
   "execution_count": 90,
   "id": "684f00ff",
   "metadata": {},
   "outputs": [
    {
     "name": "stdout",
     "output_type": "stream",
     "text": [
      "42418\n"
     ]
    }
   ],
   "source": [
    "cap = cv2.VideoCapture(vid_add)\n",
    "length = int(cap.get(cv2.CAP_PROP_FRAME_COUNT))\n",
    "print( length )"
   ]
  },
  {
   "cell_type": "code",
   "execution_count": null,
   "id": "a8c08ab6",
   "metadata": {},
   "outputs": [],
   "source": []
  },
  {
   "cell_type": "code",
   "execution_count": null,
   "id": "1040a298",
   "metadata": {},
   "outputs": [],
   "source": []
  },
  {
   "cell_type": "code",
   "execution_count": null,
   "id": "9a562b7b",
   "metadata": {},
   "outputs": [],
   "source": []
  }
 ],
 "metadata": {
  "kernelspec": {
   "display_name": "3.6",
   "language": "python",
   "name": "3.6"
  },
  "language_info": {
   "codemirror_mode": {
    "name": "ipython",
    "version": 3
   },
   "file_extension": ".py",
   "mimetype": "text/x-python",
   "name": "python",
   "nbconvert_exporter": "python",
   "pygments_lexer": "ipython3",
   "version": "3.6.13"
  }
 },
 "nbformat": 4,
 "nbformat_minor": 5
}
